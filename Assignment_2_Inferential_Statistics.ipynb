{
 "cells": [
  {
   "cell_type": "code",
   "execution_count": 2,
   "id": "2fb7ddbf",
   "metadata": {
    "code_folding": []
   },
   "outputs": [],
   "source": [
    "# We import all the libraries that we need in our analysis and we will import others as we need them.\n",
    "import pandas as pd\n",
    "import math\n",
    "import numpy as np\n",
    "import scipy.stats as stats\n",
    "from scipy.stats import binom\n",
    "import seaborn as sns\n",
    "import matplotlib.pyplot as plt\n",
    "from scipy.stats import norm\n",
    "from scipy.stats import chi2_contingency\n",
    "\n",
    "import warnings\n",
    "warnings.filterwarnings('ignore')"
   ]
  },
  {
   "cell_type": "markdown",
   "id": "89283fd6",
   "metadata": {},
   "source": [
    "# Tasks\n",
    "\n",
    "## Load the dataset Q1.csv. It contains the exam scores (in percentages) of a sample of 50 students from a Dublin secondary school.\n",
    "\n",
    "### a. Find and comment on important summary statistics and produce an appropriate plot to summarise the dataset."
   ]
  },
  {
   "cell_type": "code",
   "execution_count": 3,
   "id": "90b2a3f0",
   "metadata": {
    "code_folding": []
   },
   "outputs": [],
   "source": [
    "# Importing the dataset.\n",
    "\n",
    "df_q1 = pd.read_csv('Q1.csv')"
   ]
  },
  {
   "cell_type": "code",
   "execution_count": 4,
   "id": "feebb13b",
   "metadata": {},
   "outputs": [
    {
     "data": {
      "text/html": [
       "<div>\n",
       "<style scoped>\n",
       "    .dataframe tbody tr th:only-of-type {\n",
       "        vertical-align: middle;\n",
       "    }\n",
       "\n",
       "    .dataframe tbody tr th {\n",
       "        vertical-align: top;\n",
       "    }\n",
       "\n",
       "    .dataframe thead th {\n",
       "        text-align: right;\n",
       "    }\n",
       "</style>\n",
       "<table border=\"1\" class=\"dataframe\">\n",
       "  <thead>\n",
       "    <tr style=\"text-align: right;\">\n",
       "      <th></th>\n",
       "      <th>exam_score</th>\n",
       "    </tr>\n",
       "  </thead>\n",
       "  <tbody>\n",
       "    <tr>\n",
       "      <th>0</th>\n",
       "      <td>74.54</td>\n",
       "    </tr>\n",
       "    <tr>\n",
       "      <th>1</th>\n",
       "      <td>66.20</td>\n",
       "    </tr>\n",
       "    <tr>\n",
       "      <th>2</th>\n",
       "      <td>86.75</td>\n",
       "    </tr>\n",
       "    <tr>\n",
       "      <th>3</th>\n",
       "      <td>70.87</td>\n",
       "    </tr>\n",
       "    <tr>\n",
       "      <th>4</th>\n",
       "      <td>80.43</td>\n",
       "    </tr>\n",
       "  </tbody>\n",
       "</table>\n",
       "</div>"
      ],
      "text/plain": [
       "   exam_score\n",
       "0       74.54\n",
       "1       66.20\n",
       "2       86.75\n",
       "3       70.87\n",
       "4       80.43"
      ]
     },
     "execution_count": 4,
     "metadata": {},
     "output_type": "execute_result"
    }
   ],
   "source": [
    "df_q1.head()"
   ]
  },
  {
   "cell_type": "markdown",
   "id": "322d2e7d",
   "metadata": {},
   "source": [
    "The \".describe()\" syntax gives us a general idea of student performance on the test, such as the mean, median, spread of the data, and percentiles.\n",
    "\n",
    "**count**: indicates the number of values in the \"exam_score\" column, in this case, 50 students.\n",
    "\n",
    "**mean**: indicates the mean of the values in the \"exam_score\" column, that is, the average of the grades of the 50 students. In this case, the average or mean is 68.74%.\n",
    "\n",
    "**std**: indicates the standard deviation of the values in the \"exam_score\" column, which measures the variability of the data in relation to the mean. A more significant standard deviation indicates that the data is more spread out around the mean. In this case, the standard deviation is 9.750143, which suggests some variability in student scores.\n",
    "\n",
    "**min**: indicates the minimum value of the \"exam_score\" column, the lowest score. In this case, the minimum rating is 48.73%.\n",
    "\n",
    "**25%**: indicates the 25th percentile of the \"exam_score\" column, that is, the value below which 25% of the data lies. In this case, the 25th percentile is 62.04%, which suggests that at least 25% of the students scored below 62.04%.\n",
    "\n",
    "**50%**: Indicates the 50th percentile of the \"exam_score\" column, also known as the median, that is, the value that is right in the middle of all the values. In this case, the median is 68.39%.\n",
    "\n",
    "**75%**: indicates the 75th percentile of the \"exam_score\" column, that is, the value below which 75% of the data lies. In this case, the 75th percentile is 74.63%, which suggests that at least 25% of the students scored higher than 74.63%.\n",
    "\n",
    "**max**: indicates the maximum value of the \"exam_score\" column, the highest score. In this case, the highest score is 87.36%."
   ]
  },
  {
   "cell_type": "code",
   "execution_count": 5,
   "id": "47af94ae",
   "metadata": {},
   "outputs": [
    {
     "data": {
      "text/html": [
       "<div>\n",
       "<style scoped>\n",
       "    .dataframe tbody tr th:only-of-type {\n",
       "        vertical-align: middle;\n",
       "    }\n",
       "\n",
       "    .dataframe tbody tr th {\n",
       "        vertical-align: top;\n",
       "    }\n",
       "\n",
       "    .dataframe thead th {\n",
       "        text-align: right;\n",
       "    }\n",
       "</style>\n",
       "<table border=\"1\" class=\"dataframe\">\n",
       "  <thead>\n",
       "    <tr style=\"text-align: right;\">\n",
       "      <th></th>\n",
       "      <th>exam_score</th>\n",
       "    </tr>\n",
       "  </thead>\n",
       "  <tbody>\n",
       "    <tr>\n",
       "      <th>count</th>\n",
       "      <td>50.000000</td>\n",
       "    </tr>\n",
       "    <tr>\n",
       "      <th>mean</th>\n",
       "      <td>68.735600</td>\n",
       "    </tr>\n",
       "    <tr>\n",
       "      <th>std</th>\n",
       "      <td>9.750143</td>\n",
       "    </tr>\n",
       "    <tr>\n",
       "      <th>min</th>\n",
       "      <td>48.730000</td>\n",
       "    </tr>\n",
       "    <tr>\n",
       "      <th>25%</th>\n",
       "      <td>62.040000</td>\n",
       "    </tr>\n",
       "    <tr>\n",
       "      <th>50%</th>\n",
       "      <td>68.390000</td>\n",
       "    </tr>\n",
       "    <tr>\n",
       "      <th>75%</th>\n",
       "      <td>74.630000</td>\n",
       "    </tr>\n",
       "    <tr>\n",
       "      <th>max</th>\n",
       "      <td>87.360000</td>\n",
       "    </tr>\n",
       "  </tbody>\n",
       "</table>\n",
       "</div>"
      ],
      "text/plain": [
       "       exam_score\n",
       "count   50.000000\n",
       "mean    68.735600\n",
       "std      9.750143\n",
       "min     48.730000\n",
       "25%     62.040000\n",
       "50%     68.390000\n",
       "75%     74.630000\n",
       "max     87.360000"
      ]
     },
     "execution_count": 5,
     "metadata": {},
     "output_type": "execute_result"
    }
   ],
   "source": [
    "df_q1.describe()"
   ]
  },
  {
   "cell_type": "markdown",
   "id": "03a18cb3",
   "metadata": {},
   "source": [
    "**Histogram**\n",
    "\n",
    "- The histogram shows us the distribution of test scores in the percentage of a sample of 50 students from a secondary school in Dublin.\n",
    "\n",
    "- The horizontal axis represents the values of the test scores in percentage, while the vertical axis represents the frequency with which these values occur in the sample of students. The graph shows us how the scores are distributed in the sample, which can give us an idea of how many students scored high, how many scored low, and how scores are grouped overall.\n",
    "\n",
    "**Boxplot**\n",
    "\n",
    "- The Boxplot diagram is a graph that represents the distribution of data through five statistics:\n",
    "\n",
    "    a.- Minimum = (48.73)\n",
    "\n",
    "    b.- First Quartile (Q1) = (62.04)\n",
    "\n",
    "    c.- Median = (68.39)\n",
    "\n",
    "    d.- Third Quartile (Q3) = (74.63)\n",
    "\n",
    "    e.- Maximum = (87.36)\n",
    "    \n",
    "- The box in the centre of the graph represents the interquartile range (IQR), which is the distance between Q1 and Q3.\n",
    "\n",
    "     .-Where: IQR = Q3 - Q1 = 74.63 - 62.04 = 12.59\n",
    "\n",
    "\n",
    "- The vertical lines extend from the box to the minimum and maximum value, excluding outliers that are shown as points outside the vertical lines.\n",
    "\n",
    "- This graph is useful to visualize the distribution of data, detect outliers and compare distributions between different groups or categories. In this case, the distribution of test scores for a sample of 50 students from a Dublin secondary school is plotted. Where we can see the spread of the data, the position of the median and quartiles, and if there are any outliers. We can also compare the distribution of student scores with other samples or groups.\n",
    "\n",
    "**Density chart**\n",
    "\n",
    "- The density plot is useful to determine the shape of the data distribution, such as whether the data is skewed to the left, skewed to the right, or symmetric. It is also useful for identifying the presence of outliers or spikes in the data.\n",
    "\n",
    "- In this case, the distribution seems to be unimodal and symmetric around the mean of 68.7356. The density curve extends from the low of 48.73 to the high of 87.36 and appears to be quite smooth, suggesting that the distribution may be continuous. The median value (50% of the data) is 68.39, which is very close to the mean, indicating that the distribution is approximately normal or Gaussian. Also, the fact that the curve is relatively tall and narrow suggests that the data has a low range or spread, which is in line with the standard deviation of 9.75.\n",
    "\n",
    "**Density charts with 25th, 50th and 75th percentiles**\n",
    "\n",
    "- The graph shows the densities of the distribution of the test scores, as well as the values of percentiles 25, 50 and 75, which correspond to 62.04, 68.39 and 74.63 respectively.\n",
    "\n",
    "- The vertical line in each graph shows the location of the corresponding percentile. Where:\n",
    "    \n",
    "     a.- The Percentile (25) indicates that at least 25% of the students obtained a grade below 62.04%.\n",
    "        \n",
    "     b.- The Percentile (50) or also known as the median indicates the value that is right in the middle of all the values in this case of 68.39%.\n",
    "        \n",
    "     c.- The Percentile (75) indicates that at least 25% of the students obtained a grade higher than 74.63%."
   ]
  },
  {
   "cell_type": "code",
   "execution_count": 6,
   "id": "b241bfe3",
   "metadata": {
    "code_folding": []
   },
   "outputs": [
    {
     "data": {
      "image/png": "[encoded data removed]",
      "text/plain": [
       "<Figure size 1500x800 with 6 Axes>"
      ]
     },
     "metadata": {},
     "output_type": "display_data"
    }
   ],
   "source": [
    "# Grafic\n",
    "\n",
    "fig, axs = plt.subplots(2, 3, figsize=(15, 8))\n",
    "\n",
    "# Histogram\n",
    "sns.histplot(data=df_q1, x=\"exam_score\", kde=True, ax=axs.flat[0], color='cornflowerblue')\n",
    "axs.flat[0].set_xlabel('exam_score')\n",
    "axs.flat[0].set_ylabel('Frequency')\n",
    "axs.flat[0].set_title('Distribution of Exam-Score')\n",
    "\n",
    "# Boxplot\n",
    "axs.flat[1].boxplot(df_q1['exam_score'])\n",
    "axs.flat[1].set_title('Boxplot of Exam Scores')\n",
    "axs.flat[1].set_ylabel('Exam Score')\n",
    "\n",
    "# Density chart\n",
    "sns.kdeplot(df_q1['exam_score'], shade=True, color='cornflowerblue', ax=axs.flat[2])\n",
    "axs.flat[2].set_title('Exam Score Density')\n",
    "\n",
    "# Density charts with 25th, 50th and 75th percentiles\n",
    "for i, percentile in enumerate([25, 50, 75]):\n",
    "    sns.kdeplot(df_q1['exam_score'], shade=True, color='cornflowerblue', ax=axs.flat[i+3])\n",
    "    axs.flat[i+3].axvline(x=np.percentile(df_q1['exam_score'], percentile), color='red')\n",
    "    axs.flat[i+3].set_title(f'Exam Score Density - {percentile}th Percentile')\n",
    "\n",
    "plt.tight_layout()\n",
    "plt.show()"
   ]
  },
  {
   "cell_type": "markdown",
   "id": "45b41999",
   "metadata": {},
   "source": [
    "### b. One of the teachers is concerned about the performance of the students in the school. She suspects that their performance may be below the reported national average of 70%. Does the data show that her concerns are justified? Use a significance level of alpha = 0.05."
   ]
  },
  {
   "cell_type": "markdown",
   "id": "5e3305a4",
   "metadata": {},
   "source": [
    "One of the teachers is concerned about the performance of the students in school. She suspects that her performance may be below the reported national average of 70%. Does the data show that her concerns are justified? Use a significance level of alpha = 0.05.\n",
    "\n",
    "\n",
    "**H0:** The null hypothesis is that the average or mean of the student's scores is greater than 70%\n",
    "\n",
    "**H1:** The alternative hypothesis is that the mean or mean is less than 70%.\n",
    "\n",
    "\n",
    "**If the p-value < α, we reject H0 in favor of the alternative hypothesis, H1.**\n",
    "\n",
    "**If the p-value > α, then we fail to reject H1. We have not found enough evidence in favour of H1.**\n",
    "\n",
    "\n",
    "Since p-value > α, there is not enough evidence to affirm that the average of the student's scores is less than 70%. Therefore, the teacher's concerns may not be justified.\n",
    "\n",
    "**Observation:**\n",
    "\n",
    "When we perform a hypothesis test with a one-sided alternative hypothesis (as in this case where H1 is that the mean is less than 70%), the rejection region is at one of the two extremes of the distribution (in this case, the lower end).\n",
    "\n",
    "To calculate the \"p\" value, we calculate the probability of observing a \"t\" value in the direction of the alternative hypothesis (H1) under the null hypothesis (H0).\n",
    "\n",
    "However, when dealing with a one-sided hypothesis, this probability is divided into two parts, since the rejection region is located at one of the two extremes of the distribution (in this case, the lower extreme). Therefore, the \"p\" value obtained by the hypothesis test is divided by 2 to obtain the probability of observing a \"t\" value in the direction of the alternative hypothesis (H1), that is, \"t\" values smaller than the observed value under the null hypothesis (H0)."
   ]
  },
  {
   "cell_type": "code",
   "execution_count": 7,
   "id": "a02b9b80",
   "metadata": {
    "code_folding": []
   },
   "outputs": [
    {
     "name": "stdout",
     "output_type": "stream",
     "text": [
      "The null hypothesis is not rejected, there is not enough statistical evidence to conclude that the student's grades are lower than the national average..\n",
      "\n",
      "t-statistic: -0.9169771399834613\n",
      "p-value: 0.18182298516031403\n"
     ]
    }
   ],
   "source": [
    "# H0: the average or mean of the grades is greater than 70% Null Hypothesis\n",
    "# H1: the average or mean of the grades is less than 70% Alternative Hypothesis\n",
    "mu = 70\n",
    "alpha = 0.05\n",
    "t_stat, p_val = stats.ttest_1samp(df_q1['exam_score'], mu)\n",
    "\n",
    "# comparison of the p-value with the alpha level of significance\n",
    "if p_val/2 < alpha and t_stat < 0:\n",
    "    print(\"The null hypothesis is rejected, there is statistical evidence to conclude that the student's grades are lower than the national average..\")\n",
    "else:\n",
    "    print(\"The null hypothesis is not rejected, there is not enough statistical evidence to conclude that the student's grades are lower than the national average..\")\n",
    "    \n",
    "print('\\nt-statistic:', t_stat)\n",
    "print('p-value:', p_val/2)"
   ]
  },
  {
   "cell_type": "markdown",
   "id": "42ccc86c",
   "metadata": {},
   "source": [
    "### c. Produce and comment on an appropriate plot to illustrate your findings"
   ]
  },
  {
   "cell_type": "markdown",
   "id": "b74cf14a",
   "metadata": {},
   "source": [
    "The following graph shows us the \"t\" distribution of our data and the critical region shaded in red, where the \"t\" values that fall in that region are those that provide sufficient evidence to reject the null hypothesis (H0).\n",
    "\n",
    "In this case, the value of \"t-statistic\" is outside the critical region, which indicates that there is not enough statistical evidence to reject the null hypothesis (H0).\n",
    "\n",
    "Specifically, the black dashed vertical line represents the t-statistic value (-0.917), and the red-shaded region represents the critical region where t-values falling in this region would be extreme enough to reject the hypothesis. null (H0).\n",
    "\n",
    "As the value of \"t\" is outside the critical region, the null hypothesis (H0) cannot be rejected and it is concluded that there is not enough statistical evidence to conclude that the student's grades are lower than the national average.\n",
    "\n",
    "The value of p/2 (0.182) refers to the level of significance and is compared with alpha (0.05) to determine whether or not to reject the null hypothesis (H0).\n",
    "\n",
    "Since p/2 is not less than alpha, the null hypothesis (H0) is not rejected."
   ]
  },
  {
   "cell_type": "code",
   "execution_count": 8,
   "id": "a24bbb80",
   "metadata": {
    "code_folding": [
     0
    ]
   },
   "outputs": [
    {
     "data": {
      "image/png": "[encoded data removed]",
      "text/plain": [
       "<Figure size 800x400 with 1 Axes>"
      ]
     },
     "metadata": {},
     "output_type": "display_data"
    }
   ],
   "source": [
    "# Grafic\n",
    "df = len(df_q1['exam_score']) - 1\n",
    "\n",
    "x = np.linspace(-5, 5, 1000)\n",
    "t = stats.t.pdf(x, df)\n",
    "\n",
    "t_critical = stats.t.ppf(alpha, df)\n",
    "\n",
    "fig, ax = plt.subplots(figsize=(8, 4))\n",
    "\n",
    "ax.plot(x, t, 'b-', linewidth=2)\n",
    "\n",
    "ax.fill_between(x[x<=t_critical], 0, t[x<=t_critical], alpha=0.3, color='red')\n",
    "\n",
    "ax.axvline(t_stat, color='black', linestyle='--')\n",
    "\n",
    "ax.set_title('t distribution with critical region', fontsize=14)\n",
    "ax.set_xlabel('t-statistic', fontsize=12)\n",
    "ax.set_ylabel('Probability Density', fontsize=12)\n",
    "\n",
    "plt.show()"
   ]
  },
  {
   "cell_type": "markdown",
   "id": "3f6b70cd",
   "metadata": {},
   "source": [
    "## Load the diamonds dataset, and print the first 5 rows. The color variable refers to the colour of the diamond, with categories from “D” to “J”. Colourless diamonds are considered better than diamonds with a yellow tint. Diamonds from “D” to “F” are considered colourless, and diamonds from colour “G” to “J” are not considered colourless (that is, they have a very faint colour).\n",
    "\n",
    "### a. Create a new binary variable in the dataframe called “colourless” which records 1 in rows with colourless diamonds and 0 otherwise."
   ]
  },
  {
   "cell_type": "code",
   "execution_count": 9,
   "id": "deb6b768",
   "metadata": {
    "code_folding": []
   },
   "outputs": [],
   "source": [
    "# Importing the dataset.\n",
    "\n",
    "df_diamonds = pd.read_csv('diamonds.csv')"
   ]
  },
  {
   "cell_type": "code",
   "execution_count": 10,
   "id": "a8d2d0af",
   "metadata": {},
   "outputs": [
    {
     "data": {
      "text/html": [
       "<div>\n",
       "<style scoped>\n",
       "    .dataframe tbody tr th:only-of-type {\n",
       "        vertical-align: middle;\n",
       "    }\n",
       "\n",
       "    .dataframe tbody tr th {\n",
       "        vertical-align: top;\n",
       "    }\n",
       "\n",
       "    .dataframe thead th {\n",
       "        text-align: right;\n",
       "    }\n",
       "</style>\n",
       "<table border=\"1\" class=\"dataframe\">\n",
       "  <thead>\n",
       "    <tr style=\"text-align: right;\">\n",
       "      <th></th>\n",
       "      <th>carat</th>\n",
       "      <th>cut</th>\n",
       "      <th>color</th>\n",
       "      <th>clarity</th>\n",
       "      <th>depth</th>\n",
       "      <th>table</th>\n",
       "      <th>price</th>\n",
       "      <th>x</th>\n",
       "      <th>y</th>\n",
       "      <th>z</th>\n",
       "    </tr>\n",
       "  </thead>\n",
       "  <tbody>\n",
       "    <tr>\n",
       "      <th>0</th>\n",
       "      <td>0.23</td>\n",
       "      <td>Ideal</td>\n",
       "      <td>E</td>\n",
       "      <td>SI2</td>\n",
       "      <td>61.5</td>\n",
       "      <td>55.0</td>\n",
       "      <td>326</td>\n",
       "      <td>3.95</td>\n",
       "      <td>3.98</td>\n",
       "      <td>2.43</td>\n",
       "    </tr>\n",
       "    <tr>\n",
       "      <th>1</th>\n",
       "      <td>0.21</td>\n",
       "      <td>Premium</td>\n",
       "      <td>E</td>\n",
       "      <td>SI1</td>\n",
       "      <td>59.8</td>\n",
       "      <td>61.0</td>\n",
       "      <td>326</td>\n",
       "      <td>3.89</td>\n",
       "      <td>3.84</td>\n",
       "      <td>2.31</td>\n",
       "    </tr>\n",
       "    <tr>\n",
       "      <th>2</th>\n",
       "      <td>0.23</td>\n",
       "      <td>Good</td>\n",
       "      <td>E</td>\n",
       "      <td>VS1</td>\n",
       "      <td>56.9</td>\n",
       "      <td>65.0</td>\n",
       "      <td>327</td>\n",
       "      <td>4.05</td>\n",
       "      <td>4.07</td>\n",
       "      <td>2.31</td>\n",
       "    </tr>\n",
       "    <tr>\n",
       "      <th>3</th>\n",
       "      <td>0.29</td>\n",
       "      <td>Premium</td>\n",
       "      <td>I</td>\n",
       "      <td>VS2</td>\n",
       "      <td>62.4</td>\n",
       "      <td>58.0</td>\n",
       "      <td>334</td>\n",
       "      <td>4.20</td>\n",
       "      <td>4.23</td>\n",
       "      <td>2.63</td>\n",
       "    </tr>\n",
       "    <tr>\n",
       "      <th>4</th>\n",
       "      <td>0.31</td>\n",
       "      <td>Good</td>\n",
       "      <td>J</td>\n",
       "      <td>SI2</td>\n",
       "      <td>63.3</td>\n",
       "      <td>58.0</td>\n",
       "      <td>335</td>\n",
       "      <td>4.34</td>\n",
       "      <td>4.35</td>\n",
       "      <td>2.75</td>\n",
       "    </tr>\n",
       "  </tbody>\n",
       "</table>\n",
       "</div>"
      ],
      "text/plain": [
       "   carat      cut color clarity  depth  table  price     x     y     z\n",
       "0   0.23    Ideal     E     SI2   61.5   55.0    326  3.95  3.98  2.43\n",
       "1   0.21  Premium     E     SI1   59.8   61.0    326  3.89  3.84  2.31\n",
       "2   0.23     Good     E     VS1   56.9   65.0    327  4.05  4.07  2.31\n",
       "3   0.29  Premium     I     VS2   62.4   58.0    334  4.20  4.23  2.63\n",
       "4   0.31     Good     J     SI2   63.3   58.0    335  4.34  4.35  2.75"
      ]
     },
     "execution_count": 10,
     "metadata": {},
     "output_type": "execute_result"
    }
   ],
   "source": [
    "df_diamonds.head()"
   ]
  },
  {
   "cell_type": "code",
   "execution_count": 11,
   "id": "cc58554b",
   "metadata": {},
   "outputs": [],
   "source": [
    "df_diamonds['colourless'] = df_diamonds['color'].apply(lambda x: 1 if x in ['D', 'E', 'F'] else 0)"
   ]
  },
  {
   "cell_type": "code",
   "execution_count": 12,
   "id": "f13977f7",
   "metadata": {},
   "outputs": [
    {
     "data": {
      "text/html": [
       "<div>\n",
       "<style scoped>\n",
       "    .dataframe tbody tr th:only-of-type {\n",
       "        vertical-align: middle;\n",
       "    }\n",
       "\n",
       "    .dataframe tbody tr th {\n",
       "        vertical-align: top;\n",
       "    }\n",
       "\n",
       "    .dataframe thead th {\n",
       "        text-align: right;\n",
       "    }\n",
       "</style>\n",
       "<table border=\"1\" class=\"dataframe\">\n",
       "  <thead>\n",
       "    <tr style=\"text-align: right;\">\n",
       "      <th></th>\n",
       "      <th>carat</th>\n",
       "      <th>cut</th>\n",
       "      <th>color</th>\n",
       "      <th>clarity</th>\n",
       "      <th>depth</th>\n",
       "      <th>table</th>\n",
       "      <th>price</th>\n",
       "      <th>x</th>\n",
       "      <th>y</th>\n",
       "      <th>z</th>\n",
       "      <th>colourless</th>\n",
       "    </tr>\n",
       "  </thead>\n",
       "  <tbody>\n",
       "    <tr>\n",
       "      <th>0</th>\n",
       "      <td>0.23</td>\n",
       "      <td>Ideal</td>\n",
       "      <td>E</td>\n",
       "      <td>SI2</td>\n",
       "      <td>61.5</td>\n",
       "      <td>55.0</td>\n",
       "      <td>326</td>\n",
       "      <td>3.95</td>\n",
       "      <td>3.98</td>\n",
       "      <td>2.43</td>\n",
       "      <td>1</td>\n",
       "    </tr>\n",
       "    <tr>\n",
       "      <th>1</th>\n",
       "      <td>0.21</td>\n",
       "      <td>Premium</td>\n",
       "      <td>E</td>\n",
       "      <td>SI1</td>\n",
       "      <td>59.8</td>\n",
       "      <td>61.0</td>\n",
       "      <td>326</td>\n",
       "      <td>3.89</td>\n",
       "      <td>3.84</td>\n",
       "      <td>2.31</td>\n",
       "      <td>1</td>\n",
       "    </tr>\n",
       "    <tr>\n",
       "      <th>2</th>\n",
       "      <td>0.23</td>\n",
       "      <td>Good</td>\n",
       "      <td>E</td>\n",
       "      <td>VS1</td>\n",
       "      <td>56.9</td>\n",
       "      <td>65.0</td>\n",
       "      <td>327</td>\n",
       "      <td>4.05</td>\n",
       "      <td>4.07</td>\n",
       "      <td>2.31</td>\n",
       "      <td>1</td>\n",
       "    </tr>\n",
       "    <tr>\n",
       "      <th>3</th>\n",
       "      <td>0.29</td>\n",
       "      <td>Premium</td>\n",
       "      <td>I</td>\n",
       "      <td>VS2</td>\n",
       "      <td>62.4</td>\n",
       "      <td>58.0</td>\n",
       "      <td>334</td>\n",
       "      <td>4.20</td>\n",
       "      <td>4.23</td>\n",
       "      <td>2.63</td>\n",
       "      <td>0</td>\n",
       "    </tr>\n",
       "    <tr>\n",
       "      <th>4</th>\n",
       "      <td>0.31</td>\n",
       "      <td>Good</td>\n",
       "      <td>J</td>\n",
       "      <td>SI2</td>\n",
       "      <td>63.3</td>\n",
       "      <td>58.0</td>\n",
       "      <td>335</td>\n",
       "      <td>4.34</td>\n",
       "      <td>4.35</td>\n",
       "      <td>2.75</td>\n",
       "      <td>0</td>\n",
       "    </tr>\n",
       "  </tbody>\n",
       "</table>\n",
       "</div>"
      ],
      "text/plain": [
       "   carat      cut color clarity  depth  table  price     x     y     z  \\\n",
       "0   0.23    Ideal     E     SI2   61.5   55.0    326  3.95  3.98  2.43   \n",
       "1   0.21  Premium     E     SI1   59.8   61.0    326  3.89  3.84  2.31   \n",
       "2   0.23     Good     E     VS1   56.9   65.0    327  4.05  4.07  2.31   \n",
       "3   0.29  Premium     I     VS2   62.4   58.0    334  4.20  4.23  2.63   \n",
       "4   0.31     Good     J     SI2   63.3   58.0    335  4.34  4.35  2.75   \n",
       "\n",
       "   colourless  \n",
       "0           1  \n",
       "1           1  \n",
       "2           1  \n",
       "3           0  \n",
       "4           0  "
      ]
     },
     "execution_count": 12,
     "metadata": {},
     "output_type": "execute_result"
    }
   ],
   "source": [
    "df_diamonds.head()"
   ]
  },
  {
   "cell_type": "markdown",
   "id": "2fa25646",
   "metadata": {},
   "source": [
    "### b. Perform an appropriate hypothesis test to determine whether there is any association between the clarity of a diamond and whether it is colourless or not. Use a significance level of alpha = 0.01."
   ]
  },
  {
   "cell_type": "markdown",
   "id": "2ce26f36",
   "metadata": {},
   "source": [
    "The interpretation of the results is as follows:\n",
    "\n",
    "The null hypothesis is rejected indicating that there is sufficient statistical evidence to conclude that there is an association between the clarity of diamonds and whether or not they are colourless. In other words, the clarity of diamonds is related to their colourlessness.\n",
    "\n",
    "The contingency table shows the distribution of the observed data, where the number of diamonds classified according to their clarity and whether they are colourless or not are presented. For example, there are 454 diamonds classified as \"I1\" that are not colourless and 287 that are colourless.\n",
    "\n",
    "The value of the chi-square statistic is 486.47305941485223. This value indicates the magnitude of the observed difference between the observed frequencies and the expected frequencies under the null hypothesis. A larger chi-square value indicates a larger discrepancy between the observed and expected data under the null hypothesis.\n",
    "\n",
    "The p-value is 6.481587124454715e-101, which is extremely small. This indicates that the probability of obtaining such a large difference between the observed and expected frequencies under the null hypothesis is very low, providing strong evidence against the null hypothesis. In other words, the association between the clarity and colouration of diamonds is highly unlikely to be random.\n",
    "\n",
    "The number of degrees of freedom is 7, which is calculated as (number of rows - 1) * (number of columns - 1). The degrees of freedom represent the amount of information available to estimate the expected frequencies.\n",
    "\n",
    "The expected frequency matrix shows the frequencies that would be expected if there was no association between the clarity and colourlessness of diamonds. These frequencies are calculated under the null hypothesis and are used to compare them with the observed frequencies.\n",
    "\n",
    "In summary, the results indicate that there is a significant association between the clarity of diamonds and whether they are colourless or not. The difference between the observed and expected frequencies cannot be attributed to chance, suggesting that clarity is related to the colouration of the diamonds."
   ]
  },
  {
   "cell_type": "code",
   "execution_count": 13,
   "id": "14e88029",
   "metadata": {
    "code_folding": [
     0
    ]
   },
   "outputs": [
    {
     "name": "stdout",
     "output_type": "stream",
     "text": [
      "The null hypothesis is rejected, there is statistical evidence to conclude that there is an association between clarity and whether it is colourless or not.\n",
      "colourless     0     1\n",
      "clarity               \n",
      "I1           454   287\n",
      "IF          1174   616\n",
      "SI1         6425  6640\n",
      "SI2         4502  4692\n",
      "VS1         4821  3350\n",
      "VS2         5890  6368\n",
      "VVS1        2013  1642\n",
      "VVS2        2547  2519\n",
      "\n",
      "Chi-square statistic: 486.47305941485223\n",
      "p-value: 6.481587124454715e-101\n",
      "Degrees of freedom: 7\n",
      "Expected frequencies: [[ 382.2592881   358.7407119 ]\n",
      " [ 923.40637746  866.59362254]\n",
      " [6739.83481646 6325.16518354]\n",
      " [4742.90404153 4451.09595847]\n",
      " [4215.16955877 3955.83044123]\n",
      " [6323.52814238 5934.47185762]\n",
      " [1885.50296626 1769.49703374]\n",
      " [2613.39480905 2452.60519095]]\n"
     ]
    }
   ],
   "source": [
    "# Relevant data from the DataFrame\n",
    "df_diamonds1 = pd.DataFrame({\n",
    "    'clarity': df_diamonds['clarity'],\n",
    "    'colourless': df_diamonds['colourless']})\n",
    "\n",
    "# Contingency table\n",
    "contingency_table = pd.crosstab(df_diamonds1['clarity'], df_diamonds1['colourless'])\n",
    "\n",
    "# Chi-square test\n",
    "chi2, p_val, dof, expected = chi2_contingency(contingency_table)\n",
    "\n",
    "# Comparison of p-value with the alpha significance level\n",
    "alpha = 0.01\n",
    "if p_val < alpha:\n",
    "    print(\"The null hypothesis is rejected, there is statistical evidence to conclude that there is an association between clarity and whether it is colourless or not.\")\n",
    "else:\n",
    "    print(\"\\nThe null hypothesis is not rejected, there is not enough statistical evidence to conclude that there is an association between clarity and whether it is colourless or not.\")\n",
    "    \n",
    "\n",
    "print(contingency_table)\n",
    "print('\\nChi-square statistic:', chi2)\n",
    "print('p-value:', p_val)\n",
    "print('Degrees of freedom:', dof)\n",
    "print('Expected frequencies:', expected)"
   ]
  },
  {
   "cell_type": "markdown",
   "id": "58b30eac",
   "metadata": {},
   "source": [
    "### c. Produce and comment on an appropriate plot to illustrate your findings."
   ]
  },
  {
   "cell_type": "markdown",
   "id": "959cff26",
   "metadata": {},
   "source": [
    "The graph shows us the ratio of colourless diamonds to colourless (coloured) diamonds based on the clarity of the diamonds.\n",
    "\n",
    "The x-axis represents the different clarity categories of diamonds, which are the labels on the x-axis.\n",
    "\n",
    "The y-axis represents the number of diamonds.\n",
    "\n",
    "There are two bars for each clarity category: one for colourless diamonds (labelled \"Colourless\") and one for colourless diamonds (labelled \"Non-Colourless\").\n",
    "\n",
    "The height of each bar represents the number of diamonds in each category.\n",
    "\n",
    "The bottom bar represents the colourless diamonds and the top bar shows the colourless diamonds stacked on top of the colourless diamonds.\n",
    "\n",
    "We use this chart to visually compare the proportion of colourless to non-colourless diamonds in each clarity category. "
   ]
  },
  {
   "cell_type": "code",
   "execution_count": 14,
   "id": "70989969",
   "metadata": {
    "code_folding": [
     0
    ]
   },
   "outputs": [
    {
     "data": {
      "image/png": "[encoded data removed]",
      "text/plain": [
       "<Figure size 640x480 with 1 Axes>"
      ]
     },
     "metadata": {},
     "output_type": "display_data"
    }
   ],
   "source": [
    "# Grafic\n",
    "categories = contingency_table.index\n",
    "\n",
    "observed = contingency_table.values\n",
    "\n",
    "fig, ax = plt.subplots()\n",
    "ax.bar(categories, observed[:, 0], label='Colourless')\n",
    "ax.bar(categories, observed[:, 1], bottom=observed[:, 0], label='Non-colourless')\n",
    "\n",
    "ax.set_title('Proportion of Colourless and Non-colourless Diamonds by Clarity')\n",
    "ax.set_xlabel('Clarity')\n",
    "ax.set_ylabel('Count')\n",
    "\n",
    "ax.legend(fontsize='small')\n",
    "\n",
    "plt.show()"
   ]
  },
  {
   "cell_type": "markdown",
   "id": "58290ea5",
   "metadata": {},
   "source": [
    "### d. Find and interpret 90% confidence intervals for both the mean price of colourless diamonds and the mean price of non colourless diamonds."
   ]
  },
  {
   "cell_type": "markdown",
   "id": "4e018d8c",
   "metadata": {},
   "source": [
    "The 90% confidence intervals provide an estimated range in which the median value of the prices for colourless and non-colourless diamonds is expected to lie. Where:\n",
    "\n",
    "- 90% confidence interval for colourless diamonds: (3301.8575158790077, 3373.6612862960706) This means that, at the 90% confidence level, the median price value for colourless diamonds is estimated to be in the range between 3,301.86 and 3,373.66 units. Approximately 90% of the estimates of median price values are expected to fall within this range.\n",
    "\n",
    "\n",
    "- 90% confidence interval for non-colourless diamonds: (4448.778068284649, 4533.682076903305) Similarly, with a 90% confidence level, the median price value for non-colourless diamonds is estimated to be in the range between 4448.78 and 4533.68 units. This range provides an estimate of the range in which the median value of prices for non-colourless diamonds is expected to fall in approximately 90% of cases."
   ]
  },
  {
   "cell_type": "code",
   "execution_count": 15,
   "id": "de15c460",
   "metadata": {
    "code_folding": []
   },
   "outputs": [
    {
     "name": "stdout",
     "output_type": "stream",
     "text": [
      "90% confidence interval for colourless diamonds: (3301.8575158790077, 3373.6612862960706)\n",
      "\n",
      "90% confidence interval for non-colourless diamonds: (4448.778068284649, 4533.682076903305)\n"
     ]
    }
   ],
   "source": [
    "# Colourless and non-colourless diamond prices\n",
    "prices_colourless = df_diamonds[df_diamonds['colourless'] == 1]['price']\n",
    "prices_non_colourless = df_diamonds[df_diamonds['colourless'] == 0]['price']\n",
    "\n",
    "\n",
    "mean_colourless = np.mean(prices_colourless)\n",
    "std_colourless = np.std(prices_colourless, ddof=1)  \n",
    "\n",
    "\n",
    "mean_non_colourless = np.mean(prices_non_colourless)\n",
    "std_non_colourless = np.std(prices_non_colourless, ddof=1)\n",
    "\n",
    "\n",
    "standard_error_colourless = std_colourless / np.sqrt(len(prices_colourless))\n",
    "standard_error_non_colourless = std_non_colourless / np.sqrt(len(prices_non_colourless))\n",
    "\n",
    "\n",
    "interval_colourless = stats.t.interval(0.9, len(prices_colourless)-1, loc=mean_colourless, scale=standard_error_colourless)\n",
    "interval_non_colourless = stats.t.interval(0.9, len(prices_non_colourless)-1, loc=mean_non_colourless, scale=standard_error_non_colourless)\n",
    "\n",
    "\n",
    "print(\"90% confidence interval for colourless diamonds:\", interval_colourless)\n",
    "print(\"\\n90% confidence interval for non-colourless diamonds:\", interval_non_colourless)"
   ]
  },
  {
   "cell_type": "markdown",
   "id": "523e26e0",
   "metadata": {},
   "source": [
    "## Load the PlantGrowth dataset from the pydataset library. It contains the results of a small study comparing the yields of plants obtained under a control and under two different treatment conditions."
   ]
  },
  {
   "cell_type": "code",
   "execution_count": 16,
   "id": "4395d596",
   "metadata": {
    "code_folding": [],
    "scrolled": false
   },
   "outputs": [
    {
     "data": {
      "text/html": [
       "<div>\n",
       "<style scoped>\n",
       "    .dataframe tbody tr th:only-of-type {\n",
       "        vertical-align: middle;\n",
       "    }\n",
       "\n",
       "    .dataframe tbody tr th {\n",
       "        vertical-align: top;\n",
       "    }\n",
       "\n",
       "    .dataframe thead th {\n",
       "        text-align: right;\n",
       "    }\n",
       "</style>\n",
       "<table border=\"1\" class=\"dataframe\">\n",
       "  <thead>\n",
       "    <tr style=\"text-align: right;\">\n",
       "      <th></th>\n",
       "      <th>weight</th>\n",
       "      <th>group</th>\n",
       "    </tr>\n",
       "  </thead>\n",
       "  <tbody>\n",
       "    <tr>\n",
       "      <th>1</th>\n",
       "      <td>4.17</td>\n",
       "      <td>ctrl</td>\n",
       "    </tr>\n",
       "    <tr>\n",
       "      <th>2</th>\n",
       "      <td>5.58</td>\n",
       "      <td>ctrl</td>\n",
       "    </tr>\n",
       "    <tr>\n",
       "      <th>3</th>\n",
       "      <td>5.18</td>\n",
       "      <td>ctrl</td>\n",
       "    </tr>\n",
       "    <tr>\n",
       "      <th>4</th>\n",
       "      <td>6.11</td>\n",
       "      <td>ctrl</td>\n",
       "    </tr>\n",
       "    <tr>\n",
       "      <th>5</th>\n",
       "      <td>4.50</td>\n",
       "      <td>ctrl</td>\n",
       "    </tr>\n",
       "  </tbody>\n",
       "</table>\n",
       "</div>"
      ],
      "text/plain": [
       "   weight group\n",
       "1    4.17  ctrl\n",
       "2    5.58  ctrl\n",
       "3    5.18  ctrl\n",
       "4    6.11  ctrl\n",
       "5    4.50  ctrl"
      ]
     },
     "execution_count": 16,
     "metadata": {},
     "output_type": "execute_result"
    }
   ],
   "source": [
    "# Import the dataset:\n",
    "from pydataset import data\n",
    "\n",
    "df_plantgrowth = data('PlantGrowth')\n",
    "\n",
    "df_plantgrowth.head()"
   ]
  },
  {
   "cell_type": "markdown",
   "id": "deee4cdc",
   "metadata": {},
   "source": [
    "### a. Find and comment on important summary statistics by treatment and produce an appropriate plot to summarise the dataset."
   ]
  },
  {
   "cell_type": "markdown",
   "id": "139c3bf0",
   "metadata": {},
   "source": [
    "**For the 'ctrl' group**:\n",
    "\n",
    "- There are a total of 10 observations in the 'ctrl' group.\n",
    "\n",
    "- The average weight is 5,032 units, which indicates the average value of the weight in this group.\n",
    "\n",
    "- The standard deviation of the weight is 0.583091, which shows the variability of the weight values within the group.\n",
    "\n",
    "- The minimum weight observed in this group is 4.17 units.\n",
    "\n",
    "- The first quartile (25%) is 4.55 units, which means that 25% of the data in the 'ctrl' group weighs less than 4.55 units.\n",
    "\n",
    "- The median (50%) is 5,155 units, indicating the value that divides the 'ctrl' group into two equal parts in terms of weight.\n",
    "\n",
    "- The third quartile (75%) is 5.2925 units, which means that 75% of the data in the 'ctrl' group weighs less than 5.2925 units.\n",
    "\n",
    "- The maximum weight observed in this group is 6.11 units.\n",
    "\n",
    "**For group 'trt1'**:\n",
    "\n",
    "- There are a total of 10 observations in the 'trt1' group.\n",
    "\n",
    "- The average weight is 4,661 units, which indicates the average value of the weight in this group.\n",
    "\n",
    "- The standard deviation of the weight is 0.793676, which shows the variability of the weight values within the group.\n",
    "\n",
    "- The minimum weight observed in this group is 3.59 units.\n",
    "\n",
    "- The first quartile (25%) is 4.2075 units.\n",
    "\n",
    "- The median (50%) is 4.55 units.\n",
    "\n",
    "- The third quartile (75%) is 4.87 units.\n",
    "\n",
    "- The maximum weight observed in this group is 6.03 units.\n",
    "\n",
    "**For group 'trt2'**:\n",
    "\n",
    "- There are a total of 10 observations in the 'trt2' group.\n",
    "\n",
    "- The average weight is 5,526 units, which indicates the average value of the weight in this group.\n",
    "\n",
    "- The standard deviation of the weight is 0.442573, which shows the variability of the weight values within the group.\n",
    "\n",
    "- The minimum weight observed in this group is 4.92 units.\n",
    "\n",
    "- The first quartile (25%) is 5.2675 units.\n",
    "\n",
    "- The median (50%) is 5,435 units.\n",
    "\n",
    "- The third quartile (75%) is 5,735 units.\n",
    "\n",
    "- The maximum weight observed in this group is 6.31 units."
   ]
  },
  {
   "cell_type": "code",
   "execution_count": 17,
   "id": "8930b003",
   "metadata": {
    "code_folding": [
     0
    ]
   },
   "outputs": [
    {
     "name": "stdout",
     "output_type": "stream",
     "text": [
      "\n",
      "Summary statistics for group 'ctrl':\n",
      "       count   mean       std   min   25%    50%     75%   max\n",
      "group                                                         \n",
      "ctrl    10.0  5.032  0.583091  4.17  4.55  5.155  5.2925  6.11\n",
      "\n",
      "\n",
      "Summary statistics for group 'trt1':\n",
      "       count   mean       std   min     25%   50%   75%   max\n",
      "group                                                        \n",
      "trt1    10.0  4.661  0.793676  3.59  4.2075  4.55  4.87  6.03\n",
      "\n",
      "\n",
      "Summary statistics for group 'trt2':\n",
      "       count   mean       std   min     25%    50%    75%   max\n",
      "group                                                          \n",
      "trt2    10.0  5.526  0.442573  4.92  5.2675  5.435  5.735  6.31\n",
      "\n"
     ]
    }
   ],
   "source": [
    "# DataFrame\n",
    "df_plantgrowth = pd.DataFrame({\n",
    "    'weight': [4.17, 5.58, 5.18, 6.11, 4.50, 4.61, 5.17, 4.53, 5.33, 5.14,\n",
    "               4.81, 4.17, 4.41, 3.59, 5.87, 3.83, 6.03, 4.89, 4.32, 4.69,\n",
    "               6.31, 5.12, 5.54, 5.50, 5.37, 5.29, 4.92, 6.15, 5.80, 5.26],\n",
    "    'group': ['ctrl', 'ctrl', 'ctrl', 'ctrl', 'ctrl', 'ctrl', 'ctrl', 'ctrl', 'ctrl', 'ctrl',\n",
    "              'trt1', 'trt1', 'trt1', 'trt1', 'trt1', 'trt1', 'trt1', 'trt1', 'trt1', 'trt1',\n",
    "              'trt2', 'trt2', 'trt2', 'trt2', 'trt2', 'trt2', 'trt2', 'trt2', 'trt2', 'trt2']\n",
    "})\n",
    "\n",
    "summary_stats = df_plantgrowth.groupby('group')['weight'].describe()\n",
    "\n",
    "for group, stats in summary_stats.groupby('group'):\n",
    "    print(f\"\\nSummary statistics for group '{group}':\")\n",
    "    print(stats)\n",
    "    print()"
   ]
  },
  {
   "cell_type": "code",
   "execution_count": 18,
   "id": "b6434021",
   "metadata": {
    "code_folding": [
     0
    ]
   },
   "outputs": [
    {
     "data": {
      "image/png": "[encoded data removed]",
      "text/plain": [
       "<Figure size 1500x500 with 3 Axes>"
      ]
     },
     "metadata": {},
     "output_type": "display_data"
    }
   ],
   "source": [
    "# Grafic\n",
    "fig, axes = plt.subplots(1, 3, figsize=(15, 5))\n",
    "\n",
    "# Histogram\n",
    "axes[0].hist(df_plantgrowth[df_plantgrowth['group'] == 'ctrl']['weight'], bins=10, label='ctrl')\n",
    "axes[0].hist(df_plantgrowth[df_plantgrowth['group'] == 'trt1']['weight'], bins=10, label='trt1', alpha=0.5)\n",
    "axes[0].hist(df_plantgrowth[df_plantgrowth['group'] == 'trt2']['weight'], bins=10, label='trt2', alpha=0.5)\n",
    "axes[0].set_xlabel('Weight')\n",
    "axes[0].set_ylabel('Frequency')\n",
    "axes[0].set_title('Histogram of Weight')\n",
    "axes[0].legend()\n",
    "\n",
    "# Barplot\n",
    "sns.barplot(data=df_plantgrowth, x='group', y='weight', ci=90, ax=axes[1])\n",
    "axes[1].set_xlabel('Group')\n",
    "axes[1].set_ylabel('Weight')\n",
    "axes[1].set_title('Mean Weight of Plants by Group')\n",
    "\n",
    "# Boxplot\n",
    "sns.boxplot(data=df_plantgrowth, x='group', y='weight', ax=axes[2])\n",
    "axes[2].set_xlabel('Group')\n",
    "axes[2].set_ylabel('Weight')\n",
    "axes[2].set_title('Weight Distribution by Group')\n",
    "\n",
    "plt.tight_layout()\n",
    "plt.show()"
   ]
  },
  {
   "cell_type": "markdown",
   "id": "20b24a52",
   "metadata": {},
   "source": [
    "### b. Conduct an appropriate hypothesis test to see if there is evidence of a difference between the three means (that is, the control and the two treatments). Use a significance level of alpha = 0.05."
   ]
  },
  {
   "cell_type": "code",
   "execution_count": 19,
   "id": "14cee6b1",
   "metadata": {
    "code_folding": []
   },
   "outputs": [
    {
     "name": "stdout",
     "output_type": "stream",
     "text": [
      "The null hypothesis is rejected, there is evidence of a significant difference between the means.\n",
      "F-Statistical: 4.846087862380136\n",
      "p-value: 0.0159099583256229\n"
     ]
    }
   ],
   "source": [
    "# ANOVA\n",
    "from scipy.stats import f_oneway\n",
    "\n",
    "ctrl_weights = df_plantgrowth[df_plantgrowth['group'] == 'ctrl']['weight']\n",
    "trt1_weights = df_plantgrowth[df_plantgrowth['group'] == 'trt1']['weight']\n",
    "trt2_weights = df_plantgrowth[df_plantgrowth['group'] == 'trt2']['weight']\n",
    "\n",
    "f_stat, p_value = f_oneway(ctrl_weights, trt1_weights, trt2_weights)\n",
    "\n",
    "alpha = 0.05\n",
    "if p_value < alpha:\n",
    "    print(\"The null hypothesis is rejected, there is evidence of a significant difference between the means.\")\n",
    "else:\n",
    "    print(\"The null hypothesis is not rejected, there is insufficient evidence of a significant difference between the means.\")\n",
    "\n",
    "print(\"F-Statistical:\", f_stat)\n",
    "print(\"p-value:\", p_value)"
   ]
  },
  {
   "cell_type": "markdown",
   "id": "14b014b9",
   "metadata": {},
   "source": [
    "### c. If there is evidence of a difference between the three means, find and comment on where this difference may be."
   ]
  },
  {
   "cell_type": "markdown",
   "id": "9cea5966",
   "metadata": {},
   "source": [
    "Results Table:\n",
    "\n",
    "**group1 and group2**: They represent the groups that we are comparing.\n",
    "\n",
    "**Meandiff**: It is the average difference between the means of the groups. For example, for the comparison between ctrl and trt1, the average difference is -0.371.\n",
    "\n",
    "**p-adj**: It is the p-value adjusted to control the type I error. It indicates the probability of obtaining a difference as large or more extreme than that observed if the null hypothesis is true. For example, for the comparison between trt1 and trt2, the adjusted p-value is 0.012.\n",
    "\n",
    "**lower and upper**: represent the lower and upper limits of the confidence interval for the difference in means.\n",
    "\n",
    "**rejection**: Indicates whether or not the null hypothesis is rejected. True means rejected, which implies that there is a significant difference between the group means. False means not rejected, which implies that there is not enough evidence to say that there is a significant difference.\n",
    "\n",
    "Results:\n",
    "\n",
    "- No significant differences were found between the 'ctrl' group and the 'trt1' group (p-adj = 0.3909 > 0.05).\n",
    "\n",
    "- No significant differences were found between the 'ctrl' group and the 'trt2' group (p-adj = 0.198 > 0.05).\n",
    "\n",
    "- A significant difference was found between the 'trt1' group and the 'trt2' group (p-adj = 0.012 < 0.05).\n",
    "\n",
    "In summary, the results indicate that there is a significant difference in the means between the 'trt1' group and the 'trt2' group, but there are no significant differences between the 'ctrl' group and the other two groups ('trt1' and 'trt2')."
   ]
  },
  {
   "cell_type": "code",
   "execution_count": 20,
   "id": "fdebec37",
   "metadata": {
    "code_folding": [
     0
    ]
   },
   "outputs": [
    {
     "name": "stdout",
     "output_type": "stream",
     "text": [
      "Multiple Comparison of Means - Tukey HSD, FWER=0.05\n",
      "===================================================\n",
      "group1 group2 meandiff p-adj   lower  upper  reject\n",
      "---------------------------------------------------\n",
      "  ctrl   trt1   -0.371 0.3909 -1.0622 0.3202  False\n",
      "  ctrl   trt2    0.494  0.198 -0.1972 1.1852  False\n",
      "  trt1   trt2    0.865  0.012  0.1738 1.5562   True\n",
      "---------------------------------------------------\n"
     ]
    }
   ],
   "source": [
    "# Tukey's test\n",
    "from statsmodels.stats.multicomp import pairwise_tukeyhsd\n",
    "\n",
    "tukey_results = pairwise_tukeyhsd(df_plantgrowth['weight'], df_plantgrowth['group'])\n",
    "\n",
    "print(tukey_results)"
   ]
  },
  {
   "cell_type": "markdown",
   "id": "9ee86d88",
   "metadata": {},
   "source": [
    "## Load the trees dataset from the pydataset library. It contains measurements of the diameter, height and volume of timber in 31 felled black cherry trees. Note that the diameter (in inches) is labelled girth in the dataset. It is measured at 4 foot 6 inches above the ground."
   ]
  },
  {
   "cell_type": "code",
   "execution_count": 21,
   "id": "5f9c29af",
   "metadata": {
    "code_folding": []
   },
   "outputs": [
    {
     "data": {
      "text/html": [
       "<div>\n",
       "<style scoped>\n",
       "    .dataframe tbody tr th:only-of-type {\n",
       "        vertical-align: middle;\n",
       "    }\n",
       "\n",
       "    .dataframe tbody tr th {\n",
       "        vertical-align: top;\n",
       "    }\n",
       "\n",
       "    .dataframe thead th {\n",
       "        text-align: right;\n",
       "    }\n",
       "</style>\n",
       "<table border=\"1\" class=\"dataframe\">\n",
       "  <thead>\n",
       "    <tr style=\"text-align: right;\">\n",
       "      <th></th>\n",
       "      <th>Girth</th>\n",
       "      <th>Height</th>\n",
       "      <th>Volume</th>\n",
       "    </tr>\n",
       "  </thead>\n",
       "  <tbody>\n",
       "    <tr>\n",
       "      <th>1</th>\n",
       "      <td>8.3</td>\n",
       "      <td>70</td>\n",
       "      <td>10.3</td>\n",
       "    </tr>\n",
       "    <tr>\n",
       "      <th>2</th>\n",
       "      <td>8.6</td>\n",
       "      <td>65</td>\n",
       "      <td>10.3</td>\n",
       "    </tr>\n",
       "    <tr>\n",
       "      <th>3</th>\n",
       "      <td>8.8</td>\n",
       "      <td>63</td>\n",
       "      <td>10.2</td>\n",
       "    </tr>\n",
       "    <tr>\n",
       "      <th>4</th>\n",
       "      <td>10.5</td>\n",
       "      <td>72</td>\n",
       "      <td>16.4</td>\n",
       "    </tr>\n",
       "    <tr>\n",
       "      <th>5</th>\n",
       "      <td>10.7</td>\n",
       "      <td>81</td>\n",
       "      <td>18.8</td>\n",
       "    </tr>\n",
       "  </tbody>\n",
       "</table>\n",
       "</div>"
      ],
      "text/plain": [
       "   Girth  Height  Volume\n",
       "1    8.3      70    10.3\n",
       "2    8.6      65    10.3\n",
       "3    8.8      63    10.2\n",
       "4   10.5      72    16.4\n",
       "5   10.7      81    18.8"
      ]
     },
     "execution_count": 21,
     "metadata": {},
     "output_type": "execute_result"
    }
   ],
   "source": [
    "# Import the dataset:\n",
    "from pydataset import data\n",
    "\n",
    "df_trees = data('trees')\n",
    "\n",
    "df_trees.head()"
   ]
  },
  {
   "cell_type": "markdown",
   "id": "0d373e19",
   "metadata": {},
   "source": [
    "### a. Perform a correlation analysis between all numerical variables. Include and comment on the results of hypothesis tests for the population correlation coefficients between all three pairs of variables (you can use the pearsonr function from the scipy.stats library)."
   ]
  },
  {
   "cell_type": "markdown",
   "id": "04d98d19",
   "metadata": {},
   "source": [
    "The Pearson correlation coefficient is a measure of linear dependence between two quantitative random variables.\n",
    "Unlike covariance, Pearson's correlation is independent of the scale of measurement of the variables.\n",
    "\n",
    "The Pearson correlation coefficient measures the degree of correlation (and the direction of that correlation - whether it is positive or negative) between two metric scale variables (interval or ratio/proportion).\n",
    "The coefficient can take values between -1 and 1. \n",
    "\n",
    "A value close to 1 indicates a strong positive linear correlation, while a value close to -1 indicates a strong negative linear correlation. A value close to 0 indicates that there is no linear correlation between the two variables.\n",
    "\n",
    "Reference: https://www.wallstreetmojo.com/pearson-correlation-coefficient/\n",
    "\n",
    "\n",
    "Regarding the results, the following is observed:\n",
    "\n",
    "- Between \"Girth\" and \"Height\" a moderate positive correlation was found (correlation coefficient = 0.5193). The p-value associated with this coefficient is 0.0028, which indicates that the probability of obtaining a correlation coefficient equal to or more extreme than that observed under the null hypothesis of no correlation is very low. Therefore, there is statistical evidence of a significant correlation between these two variables.\n",
    "\n",
    "\n",
    "- Between \"Girth\" and \"Volume\" a strong positive correlation was found (correlation coefficient = 0.9671). The p-value associated with this coefficient is 0.0000, indicating strong evidence of a significant correlation between these two variables.\n",
    "\n",
    "\n",
    "- Between \"Height\" and \"Volume\" a moderate positive correlation was found (correlation coefficient = 0.5982). The p-value associated with this coefficient is 0.0004, which indicates significant statistical evidence of a correlation between these two variables.\n",
    "\n",
    "\n",
    "In summary, the results indicate that there is a significant correlation between the variables \"Girth\" and \"Height\", \"Girth\" and \"Volume\", and \"Height\" and \"Volume\". These correlations suggest that there is a relationship between these variables and that changes in one variable are associated with changes in the other variable. It is important to consider these correlations when analyzing and modelling the data, as they may have implications for the interpretation and prediction of the results.\n"
   ]
  },
  {
   "cell_type": "code",
   "execution_count": 22,
   "id": "569a50c2",
   "metadata": {
    "code_folding": [
     0
    ]
   },
   "outputs": [
    {
     "name": "stdout",
     "output_type": "stream",
     "text": [
      "           Girth   Height    Volume\n",
      "Girth   1.000000  0.51928  0.967119\n",
      "Height  0.519280  1.00000  0.598250\n",
      "Volume  0.967119  0.59825  1.000000\n",
      "\n",
      "There is evidence of a correlation between Girth y Height. Population correlation coefficient: 0.5193, p_value: 0.0028\n",
      "\n",
      "There is evidence of a correlation between Girth y Volume. Population correlation coefficient: 0.9671, p_value: 0.0000\n",
      "\n",
      "There is evidence of a correlation between Height y Volume. Population correlation coefficient: 0.5982, p_value: 0.0004\n"
     ]
    }
   ],
   "source": [
    "# DataFrame\n",
    "import scipy.stats as stats\n",
    "import pandas as pd\n",
    "\n",
    "data = {'Girth': [8.3, 8.6, 8.8, 10.5, 10.7, 10.8, 11.0, 11.0, 11.1, 11.2, 11.3, 11.4, 11.4, \n",
    "                  11.7, 12.0, 12.9, 12.9, 13.3, 13.7, 13.8, 14.0, 14.2, 14.5, 16.0, 16.3, 17.3, \n",
    "                  17.5, 17.9, 18.0, 18.0, 20.6],\n",
    "        'Height': [70, 65, 63, 72, 81, 83, 66, 75, 80, 75, 79, 76, 76, 69, 75, 74, 85, 86, 71, \n",
    "                   64, 78, 80, 74, 72, 77, 81, 82, 80, 80, 80, 87],\n",
    "        'Volume': [10.3, 10.3, 10.2, 16.4, 18.8, 19.7, 15.6, 18.2, 22.6, 19.9, 24.2, 21.0, 21.4, \n",
    "                   21.3, 19.1, 22.2, 33.8, 27.4, 25.7, 24.9, 34.5, 31.7, 36.3, 38.3, 42.6, 55.4, \n",
    "                   55.7, 58.3, 51.5, 51.0, 77.0]}\n",
    "\n",
    "df_trees = pd.DataFrame(data)\n",
    "\n",
    "correlation_matrix = df_trees.corr()\n",
    "\n",
    "print(correlation_matrix)\n",
    "\n",
    "correlation_coefficients = ['Girth', 'Height', 'Volume']\n",
    "alpha = 0.05\n",
    "\n",
    "for i in range(len(correlation_coefficients)):\n",
    "    for j in range(i+1, len(correlation_coefficients)):\n",
    "        variable1 = correlation_coefficients[i]\n",
    "        variable2 = correlation_coefficients[j]\n",
    "        r, p_value = stats.pearsonr(df_trees[variable1], df_trees[variable2])\n",
    "        if p_value < alpha:\n",
    "            print(f\"\\nThere is evidence of a correlation between {variable1} y {variable2}. Population correlation coefficient: {r:.4f}, p_value: {p_value:.4f}\")\n",
    "        else:\n",
    "            print(f\"There is no evidence of correlation between {variable1} y {variable2}. Population correlation coefficient: {r:.4f}, p_value: {p_value:.4f}\")"
   ]
  },
  {
   "cell_type": "markdown",
   "id": "19593ded",
   "metadata": {},
   "source": [
    "### b. There is interest in estimating the volume of timber from trees using either the girth or the height of the trees, or both. Perform a regression analysis to decide which of the three possible models you would recommend using. Interpret your results and provide a short conclusion of your findings."
   ]
  },
  {
   "cell_type": "markdown",
   "id": "68df6950",
   "metadata": {},
   "source": [
    "Regression analysis provides us with information about the relationship between the independent variables and the dependent variable, including the coefficients, standard error, p-value, and other relevant statistics.\n",
    "\n",
    "To decide which of the models to recommend, we must consider the following aspects:\n",
    "\n",
    "**Coefficients**: We must observe the estimated coefficients for each independent variable in the models. A positive coefficient indicates a positive relationship between the independent variable and the dependent variable, while a negative coefficient indicates a negative relationship.\n",
    "\n",
    "**Fit statistics**: We must consider the fit statistics such as the R-square and the standard error of the models. A higher R-squared and a lower standard error indicate a better fit of the model to the data.\n",
    "\n",
    "**p-value**: Examining the p-values associated with the coefficients of the independent variables in each model. A p-value less than the significance level (alpha) indicates a statistically significant relationship between the independent variable and the dependent variable."
   ]
  },
  {
   "cell_type": "code",
   "execution_count": 23,
   "id": "f220c662",
   "metadata": {
    "code_folding": []
   },
   "outputs": [
    {
     "name": "stdout",
     "output_type": "stream",
     "text": [
      "                            OLS Regression Results                            \n",
      "==============================================================================\n",
      "Dep. Variable:                 Volume   R-squared:                       0.935\n",
      "Model:                            OLS   Adj. R-squared:                  0.933\n",
      "Method:                 Least Squares   F-statistic:                     419.4\n",
      "Date:                Fri, 19 May 2023   Prob (F-statistic):           8.64e-19\n",
      "Time:                        08:56:51   Log-Likelihood:                -87.822\n",
      "No. Observations:                  31   AIC:                             179.6\n",
      "Df Residuals:                      29   BIC:                             182.5\n",
      "Df Model:                           1                                         \n",
      "Covariance Type:            nonrobust                                         \n",
      "==============================================================================\n",
      "                 coef    std err          t      P>|t|      [0.025      0.975]\n",
      "------------------------------------------------------------------------------\n",
      "const        -36.9435      3.365    -10.978      0.000     -43.826     -30.061\n",
      "Girth          5.0659      0.247     20.478      0.000       4.560       5.572\n",
      "==============================================================================\n",
      "Omnibus:                        0.169   Durbin-Watson:                   1.437\n",
      "Prob(Omnibus):                  0.919   Jarque-Bera (JB):                0.382\n",
      "Skew:                           0.028   Prob(JB):                        0.826\n",
      "Kurtosis:                       2.459   Cond. No.                         60.3\n",
      "==============================================================================\n",
      "\n",
      "Notes:\n",
      "[1] Standard Errors assume that the covariance matrix of the errors is correctly specified.\n",
      "                            OLS Regression Results                            \n",
      "==============================================================================\n",
      "Dep. Variable:                 Volume   R-squared:                       0.358\n",
      "Model:                            OLS   Adj. R-squared:                  0.336\n",
      "Method:                 Least Squares   F-statistic:                     16.16\n",
      "Date:                Fri, 19 May 2023   Prob (F-statistic):           0.000378\n",
      "Time:                        08:56:51   Log-Likelihood:                -123.40\n",
      "No. Observations:                  31   AIC:                             250.8\n",
      "Df Residuals:                      29   BIC:                             253.7\n",
      "Df Model:                           1                                         \n",
      "Covariance Type:            nonrobust                                         \n",
      "==============================================================================\n",
      "                 coef    std err          t      P>|t|      [0.025      0.975]\n",
      "------------------------------------------------------------------------------\n",
      "const        -87.1236     29.273     -2.976      0.006    -146.994     -27.253\n",
      "Height         1.5433      0.384      4.021      0.000       0.758       2.328\n",
      "==============================================================================\n",
      "Omnibus:                        1.994   Durbin-Watson:                   0.501\n",
      "Prob(Omnibus):                  0.369   Jarque-Bera (JB):                1.624\n",
      "Skew:                           0.406   Prob(JB):                        0.444\n",
      "Kurtosis:                       2.227   Cond. No.                         928.\n",
      "==============================================================================\n",
      "\n",
      "Notes:\n",
      "[1] Standard Errors assume that the covariance matrix of the errors is correctly specified.\n",
      "                            OLS Regression Results                            \n",
      "==============================================================================\n",
      "Dep. Variable:                 Volume   R-squared:                       0.948\n",
      "Model:                            OLS   Adj. R-squared:                  0.944\n",
      "Method:                 Least Squares   F-statistic:                     255.0\n",
      "Date:                Fri, 19 May 2023   Prob (F-statistic):           1.07e-18\n",
      "Time:                        08:56:51   Log-Likelihood:                -84.455\n",
      "No. Observations:                  31   AIC:                             174.9\n",
      "Df Residuals:                      28   BIC:                             179.2\n",
      "Df Model:                           2                                         \n",
      "Covariance Type:            nonrobust                                         \n",
      "==============================================================================\n",
      "                 coef    std err          t      P>|t|      [0.025      0.975]\n",
      "------------------------------------------------------------------------------\n",
      "const        -57.9877      8.638     -6.713      0.000     -75.682     -40.293\n",
      "Girth          4.7082      0.264     17.816      0.000       4.167       5.249\n",
      "Height         0.3393      0.130      2.607      0.014       0.073       0.606\n",
      "==============================================================================\n",
      "Omnibus:                        0.923   Durbin-Watson:                   1.266\n",
      "Prob(Omnibus):                  0.630   Jarque-Bera (JB):                0.950\n",
      "Skew:                           0.310   Prob(JB):                        0.622\n",
      "Kurtosis:                       2.408   Cond. No.                         959.\n",
      "==============================================================================\n",
      "\n",
      "Notes:\n",
      "[1] Standard Errors assume that the covariance matrix of the errors is correctly specified.\n"
     ]
    }
   ],
   "source": [
    "# Importar las bibliotecas necesarias:\n",
    "import statsmodels.api as sm\n",
    "import pandas as pd\n",
    "\n",
    "# Crear el DataFrame con los datos\n",
    "data = {'Girth': [8.3, 8.6, 8.8, 10.5, 10.7, 10.8, 11.0, 11.0, 11.1, 11.2, 11.3, 11.4, 11.4,\n",
    "                  11.7, 12.0, 12.9, 12.9, 13.3, 13.7, 13.8, 14.0, 14.2, 14.5, 16.0, 16.3, 17.3,\n",
    "                  17.5, 17.9, 18.0, 18.0, 20.6],\n",
    "        'Height': [70, 65, 63, 72, 81, 83, 66, 75, 80, 75, 79, 76, 76, 69, 75, 74, 85, 86, 71, \n",
    "                   64, 78, 80, 74, 72, 77, 81, 82, 80, 80, 80, 87],\n",
    "        'Volume': [10.3, 10.3, 10.2, 16.4, 18.8, 19.7, 15.6, 18.2, 22.6, 19.9, 24.2, 21.0, 21.4, \n",
    "                   21.3, 19.1, 22.2, 33.8, 27.4, 25.7, 24.9, 34.5, 31.7, 36.3, 38.3, 42.6, 55.4, \n",
    "                   55.7, 58.3, 51.5, 51.0, 77.0]}\n",
    "\n",
    "df_trees = pd.DataFrame(data)\n",
    "\n",
    "# Dividir los datos en variables independientes (X) y variable dependiente (y):\n",
    "X = df_trees[['Girth', 'Height']]\n",
    "y = df_trees['Volume']\n",
    "\n",
    "# Añadir una columna de unos a la matriz de variables independientes para estimar el intercepto en el modelo de regresión:\n",
    "X = sm.add_constant(X)\n",
    "\n",
    "# Ajustar los modelos de regresión y obtener los resultados:\n",
    "model_girth = sm.OLS(y, X[['const', 'Girth']]).fit()\n",
    "model_height = sm.OLS(y, X[['const', 'Height']]).fit()\n",
    "model_both = sm.OLS(y, X).fit()\n",
    "\n",
    "print(model_girth.summary())\n",
    "print(model_height.summary())\n",
    "print(model_both.summary())"
   ]
  },
  {
   "cell_type": "markdown",
   "id": "e8cd81cd",
   "metadata": {},
   "source": [
    "Based on the results of the regression models, we can make the following conclusions:\n",
    "\n",
    "**Model using circumference (Girth)**:\n",
    "\n",
    "- The coefficient for the Girth variable is 5.0659, which indicates that for each unit of increase in circumference, an average increase of 5.0659 in the volume of wood is expected.\n",
    "\n",
    "- The p-value associated with the Girth coefficient is less than the significance level (alpha = 0.05), which indicates that the relationship between the circumference and the volume of wood is statistically significant.\n",
    "\n",
    "- The adjusted R-square is 0.933, which means that approximately 93.3% of the variability in wood volume can be explained by tree circumference.\n",
    "\n",
    "\n",
    "**Model using the height (Height)**:\n",
    "\n",
    "- The coefficient for the Height variable is 1.5433, which indicates that for each unit of increase in height, an average increase of 1.5433 in the volume of wood is expected.\n",
    "\n",
    "- The p-value associated with the Height coefficient is less than the significance level (alpha = 0.05), which indicates that the relationship between height and wood volume is statistically significant.\n",
    "\n",
    "- The adjusted R-square is 0.336, indicating that approximately 33.6% of the variability in wood volume can be explained by tree height.\n",
    "\n",
    "\n",
    "**Model using both variables (Girth and Height)**:\n",
    "\n",
    "- The coefficients for the Girth and Height variables are 4.7082 and 0.3393, respectively. This indicates that both circumference and height have a significant impact on the volume of wood.\n",
    "\n",
    "- Both coefficients have p values less than the significance level (alpha = 0.05), which indicates that both variables have a statistically significant relationship with the volume of wood.\n",
    "\n",
    "- The adjusted R-square is 0.944, which means that approximately 94.4% of the variability in wood volume can be explained by tree girth and height.\n",
    "\n",
    "\n",
    "Based on these results, it would be recommended to use the model that includes both the circumference and the height of the trees to estimate the volume of wood. This model has a higher fitted R-square (0.944) compared to the other two models and shows that both girth and height have a significant impact on wood volume. By including both variables, a better ability to explain the variability in the volume of wood in the trees is obtained."
   ]
  },
  {
   "cell_type": "markdown",
   "id": "1ed97b0a",
   "metadata": {},
   "source": [
    "### Bibliography"
   ]
  },
  {
   "cell_type": "markdown",
   "id": "513e979a",
   "metadata": {},
   "source": [
    "Reference : \n",
    "\n",
    "- Stack Overflow [online] (May 10, 2021) Available at: https://stackoverflow.com/questions/67474348/how-do-i-create-a-bar-chart-with-percentage-values-in-python-plotly-express\n",
    "\n",
    "- GeeksforGeeks [online] (16 Jul, 2020) Available at: https://www.geeksforgeeks.org/python-binomial-distribution/?ref=gcse\n",
    "\n",
    "- Scribbr [online] Published on November 5, 2020 by Pritha Bhandari. Available at: https://www.scribbr.com/statistics/standard-normal-distribution/\n",
    "\n",
    "- nbconvert documentation, Jupyter Development Team [online] Available at: https://nbconvert.readthedocs.io/en/latest/install.html\n",
    "\n",
    "- Kaggle, Updated 5 Years Ago by Blastchar [online] Available at: https://www.kaggle.com/datasets/blastchar/telco-customer-churn\n",
    "\n",
    "- W3Schools, Copyright 1999-2023 by Refsnes Data [online] Available at: https://www.w3schools.com/statistics/statistics_standard_normal_distribution.php\n",
    "\n",
    "- Copyright © the Python Graph Gallery 2018 [online] Available at: https://www.python-graph-gallery.com/barplot/\n",
    "\n",
    "- Scribbr [online] Published on May 13, 2022 by Shaun Turney. Available at: https://www.scribbr.com/statistics/poisson-distribution/\n",
    "\n",
    "- By Abhishek Wasnik / October 26, 2020. Available at: https://www.askpython.com/python/normal-distribution\n",
    "\n",
    "- By GreekDataGuy / Jan 2, 2020. Available at: https://towardsdatascience.com/conditional-probability-with-a-python-example-fd6f5937cd2\n",
    "\n",
    "- By Zach / July 13, 2020. Available at: https://www.statology.org/kruskal-wallis-test-python/\n",
    "\n",
    "- By Angel Das / Nov 7, 2022. Available at: https://towardsdatascience.com/kruskal-wallis-test-for-beginners-4fe9b0333b31\n",
    "\n",
    "- By Alexander Cheng / July 8, 2020. Available at: https://towardsdatascience.com/anova-tukey-test-in-python-b3082b6e6bda\n",
    "\n",
    "- Copyright 2008-2023, The SciPy community. Avilable at: https://docs.scipy.org/doc/scipy/reference/generated/scipy.stats.ks_2samp.html\n",
    "\n",
    "- Copyright 2008-2023, The SciPy community. Avilable at: https://docs.scipy.org/doc/scipy/reference/stats.html\n"
   ]
  }
 ],
 "metadata": {
  "hide_input": false,
  "kernelspec": {
   "display_name": "Python 3 (ipykernel)",
   "language": "python",
   "name": "python3"
  },
  "language_info": {
   "codemirror_mode": {
    "name": "ipython",
    "version": 3
   },
   "file_extension": ".py",
   "mimetype": "text/x-python",
   "name": "python",
   "nbconvert_exporter": "python",
   "pygments_lexer": "ipython3",
   "version": "3.10.9"
  },
  "nbTranslate": {
   "displayLangs": [
    "*"
   ],
   "hotkey": "alt-t",
   "langInMainMenu": true,
   "sourceLang": "en",
   "targetLang": "fr",
   "useGoogleTranslate": true
  },
  "toc": {
   "base_numbering": 1,
   "nav_menu": {
    "height": "367.945px",
    "width": "923.958px"
   },
   "number_sections": true,
   "sideBar": true,
   "skip_h1_title": false,
   "title_cell": "Table of Contents",
   "title_sidebar": "Contents",
   "toc_cell": false,
   "toc_position": {
    "height": "calc(100% - 180px)",
    "left": "10px",
    "top": "150px",
    "width": "378.788px"
   },
   "toc_section_display": true,
   "toc_window_display": true
  },
  "varInspector": {
   "cols": {
    "lenName": 16,
    "lenType": 16,
    "lenVar": 40
   },
   "kernels_config": {
    "python": {
     "delete_cmd_postfix": "",
     "delete_cmd_prefix": "del ",
     "library": "var_list.py",
     "varRefreshCmd": "print(var_dic_list())"
    },
    "r": {
     "delete_cmd_postfix": ") ",
     "delete_cmd_prefix": "rm(",
     "library": "var_list.r",
     "varRefreshCmd": "cat(var_dic_list()) "
    }
   },
   "types_to_exclude": [
    "module",
    "function",
    "builtin_function_or_method",
    "instance",
    "_Feature"
   ],
   "window_display": false
  }
 },
 "nbformat": 4,
 "nbformat_minor": 5
}
